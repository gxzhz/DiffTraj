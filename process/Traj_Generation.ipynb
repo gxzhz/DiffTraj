{
 "cells": [
  {
   "cell_type": "markdown",
   "metadata": {},
   "source": [
    "#### Load the pretrain model and generate GPS Trajectories"
   ]
  },
  {
   "cell_type": "code",
   "execution_count": null,
   "metadata": {},
   "outputs": [],
   "source": [
    "import torch\n",
    "import numpy as np\n",
    "import matplotlib.pyplot as plt\n",
    "import os\n",
    "from tqdm.notebook import tqdm\n",
    "from types import SimpleNamespace\n",
    "from utils.Traj_UNet import *\n",
    "from utils.config import args\n",
    "from utils.utils import *\n",
    "from torch.utils.data import DataLoader"
   ]
  },
  {
   "cell_type": "code",
   "execution_count": null,
   "metadata": {},
   "outputs": [],
   "source": [
    "temp = {}\n",
    "for k, v in args.items():\n",
    "    temp[k] = SimpleNamespace(**v)\n",
    "\n",
    "config = SimpleNamespace(**temp)\n",
    "\n",
    "unet = Guide_UNet(config).cuda()\n",
    "# load the model\n",
    "unet.load_state_dict(torch.load('./model.pt'))"
   ]
  },
  {
   "cell_type": "code",
   "execution_count": null,
   "metadata": {},
   "outputs": [],
   "source": [
    "n_steps = config.diffusion.num_diffusion_timesteps\n",
    "beta = torch.linspace(config.diffusion.beta_start,\n",
    "                          config.diffusion.beta_end, n_steps).cuda()\n",
    "alpha = 1. - beta\n",
    "alpha_bar = torch.cumprod(alpha, dim=0)\n",
    "lr = 2e-4  # Explore this - might want it lower when training on the full dataset\n",
    "\n",
    "eta=0.0\n",
    "timesteps=100\n",
    "skip = n_steps // timesteps\n",
    "seq = range(0, n_steps, skip)\n",
    "\n",
    "# load head information for guide trajectory generation\n",
    "batchsize = 500\n",
    "head = np.load('heads.npy',\n",
    "                   allow_pickle=True)\n",
    "head = torch.from_numpy(head).float()\n",
    "dataloader = DataLoader(head, batch_size=batchsize, shuffle=True, num_workers=4)"
   ]
  },
  {
   "cell_type": "code",
   "execution_count": null,
   "metadata": {},
   "outputs": [],
   "source": [
    "# the mean and std of head information, using for rescaling\n",
    "hmean=[0, 10283.41600429,   961.66920921,   292.30299616,    36.02766493, 10.98568072]\n",
    "hstd=[1, 8782.599246414231, 379.41939897358264, 107.24874828393955, 28.749924691281066, 8.774629812281198]\n",
    "mean = np.array([104.07596303,   30.68085491])\n",
    "std = np.array([2.15106194e-02, 1.89193207e-02])\n",
    "# the original mean and std of trajectory length, using for rescaling the trajectory length\n",
    "len_mean = 292.30299616  # Chengdu\n",
    "len_std = 107.2487482839  # Chengdu"
   ]
  },
  {
   "cell_type": "code",
   "execution_count": null,
   "metadata": {},
   "outputs": [],
   "source": [
    "Gen_traj = []\n",
    "Gen_head = []\n",
    "for i in tqdm(range(1)):\n",
    "    head = next(iter(dataloader))\n",
    "    lengths = head[:, 3]\n",
    "    lengths = lengths * len_std + len_mean\n",
    "    lengths = lengths.int()\n",
    "    tes = head[:,:6].numpy()\n",
    "    Gen_head.extend((tes*hstd+hmean))\n",
    "    head = head.cuda()\n",
    "    # Start with random noise\n",
    "    x = torch.randn(batchsize, 2, config.data.traj_length).cuda()\n",
    "    ims = []\n",
    "    n = x.size(0)\n",
    "    seq_next = [-1] + list(seq[:-1])\n",
    "    for i, j in zip(reversed(seq), reversed(seq_next)):\n",
    "        t = (torch.ones(n) * i).to(x.device)\n",
    "        next_t = (torch.ones(n) * j).to(x.device)\n",
    "        with torch.no_grad():\n",
    "            pred_noise = unet(x, t, head)\n",
    "            # print(pred_noise.shape)\n",
    "            x = p_xt(x, pred_noise, t, next_t, beta, eta)\n",
    "            if i % 10 == 0:\n",
    "                ims.append(x.cpu().squeeze(0))\n",
    "    trajs = ims[-1].cpu().numpy()\n",
    "    trajs = trajs[:,:2,:]\n",
    "    # resample the trajectory length\n",
    "    for j in range(batchsize):\n",
    "        new_traj = resample_trajectory(trajs[j].T, lengths[j])\n",
    "        new_traj = new_traj * std + mean\n",
    "        Gen_traj.append(new_traj)\n",
    "    break\n"
   ]
  },
  {
   "cell_type": "code",
   "execution_count": null,
   "metadata": {},
   "outputs": [],
   "source": [
    "plt.figure(figsize=(8,8))\n",
    "for i in range(len(Gen_traj)):\n",
    "    traj=Gen_traj[i]\n",
    "    plt.plot(traj[:,0],traj[:,1],color='blue',alpha=0.1)\n",
    "plt.tight_layout()\n",
    "plt.savefig('Chengdu_traj.png')\n",
    "plt.show()"
   ]
  },
  {
   "cell_type": "code",
   "execution_count": null,
   "metadata": {},
   "outputs": [],
   "source": []
  }
 ],
 "metadata": {
  "kernelspec": {
   "display_name": "Python 3.8.3 ('base': conda)",
   "language": "python",
   "name": "python3"
  },
  "language_info": {
   "codemirror_mode": {
    "name": "ipython",
    "version": 3
   },
   "file_extension": ".py",
   "mimetype": "text/x-python",
   "name": "python",
   "nbconvert_exporter": "python",
   "pygments_lexer": "ipython3",
   "version": "3.8.3"
  },
  "varInspector": {
   "cols": {
    "lenName": 16,
    "lenType": 16,
    "lenVar": 40
   },
   "kernels_config": {
    "python": {
     "delete_cmd_postfix": "",
     "delete_cmd_prefix": "del ",
     "library": "var_list.py",
     "varRefreshCmd": "print(var_dic_list())"
    },
    "r": {
     "delete_cmd_postfix": ") ",
     "delete_cmd_prefix": "rm(",
     "library": "var_list.r",
     "varRefreshCmd": "cat(var_dic_list()) "
    }
   },
   "types_to_exclude": [
    "module",
    "function",
    "builtin_function_or_method",
    "instance",
    "_Feature"
   ],
   "window_display": false
  },
  "vscode": {
   "interpreter": {
    "hash": "d9142733f49676e59978275f0f39c56c95b761e7d970c001e5656adbdf35d165"
   }
  }
 },
 "nbformat": 4,
 "nbformat_minor": 2
}

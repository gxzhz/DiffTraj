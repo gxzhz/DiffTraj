{
 "cells": [
  {
   "cell_type": "markdown",
   "metadata": {},
   "source": [
    "This file is to convert the raw data to parquet format for geopandas loading.\n"
   ]
  },
  {
   "cell_type": "code",
   "execution_count": 2,
   "metadata": {
    "ExecuteTime": {
     "end_time": "2024-03-04T13:34:01.890196Z",
     "start_time": "2024-03-04T13:33:55.083711Z"
    }
   },
   "outputs": [],
   "source": [
    "import pandas as pd\n",
    "import pickle\n",
    "import geopandas as gpd"
   ]
  },
  {
   "cell_type": "code",
   "execution_count": 3,
   "metadata": {
    "ExecuteTime": {
     "end_time": "2024-03-04T13:34:37.147168Z",
     "start_time": "2024-03-04T13:34:37.037412Z"
    }
   },
   "outputs": [
    {
     "ename": "UnpicklingError",
     "evalue": "STACK_GLOBAL requires str",
     "output_type": "error",
     "traceback": [
      "\u001B[1;31m---------------------------------------------------------------------------\u001B[0m",
      "\u001B[1;31mUnpicklingError\u001B[0m                           Traceback (most recent call last)",
      "Cell \u001B[1;32mIn[3], line 4\u001B[0m\n\u001B[0;32m      2\u001B[0m attr_path \u001B[38;5;241m=\u001B[39m \u001B[38;5;124m'\u001B[39m\u001B[38;5;124m../headsss.npy\u001B[39m\u001B[38;5;124m'\u001B[39m\n\u001B[0;32m      3\u001B[0m \u001B[38;5;28;01mwith\u001B[39;00m \u001B[38;5;28mopen\u001B[39m(attr_path, \u001B[38;5;124m'\u001B[39m\u001B[38;5;124mrb\u001B[39m\u001B[38;5;124m'\u001B[39m) \u001B[38;5;28;01mas\u001B[39;00m f:\n\u001B[1;32m----> 4\u001B[0m     attrs \u001B[38;5;241m=\u001B[39m \u001B[43mpickle\u001B[49m\u001B[38;5;241;43m.\u001B[39;49m\u001B[43mload\u001B[49m\u001B[43m(\u001B[49m\u001B[43mf\u001B[49m\u001B[43m)\u001B[49m\n\u001B[0;32m      6\u001B[0m \u001B[38;5;66;03m# Load the trajectories\u001B[39;00m\n\u001B[0;32m      7\u001B[0m trajs_path \u001B[38;5;241m=\u001B[39m \u001B[38;5;124m'\u001B[39m\u001B[38;5;124m./trajs.pkl\u001B[39m\u001B[38;5;124m'\u001B[39m\n",
      "\u001B[1;31mUnpicklingError\u001B[0m: STACK_GLOBAL requires str"
     ]
    }
   ],
   "source": [
    "# Load the attributes\n",
    "attr_path = './attrs.pkl'\n",
    "with open(attr_path, 'rb') as f:\n",
    "    attrs = pickle.load(f)\n",
    "   \n",
    "# Load the trajectories\n",
    "trajs_path = './trajs.pkl'\n",
    "with open(trajs_path, 'rb') as f:\n",
    "    trajs = pickle.load(f)"
   ]
  },
  {
   "cell_type": "code",
   "execution_count": null,
   "metadata": {},
   "outputs": [],
   "source": [
    "from shapely.geometry import Point, LineString, shape\n",
    "# transform the trajectory to linestring\n",
    "def turn_to_linestring(x):\n",
    "    line_list = []\n",
    "    for i in range(len(x)):\n",
    "        point_tuple = (x[i][0], x[i][1])\n",
    "        line_list.append(point_tuple)\n",
    "    linestring = LineString(line_list)\n",
    "    return linestring\n",
    "\n",
    "\n",
    "for i in range(len(trajs)):\n",
    "    trajs[i] = turn_to_linestring(trajs[i])"
   ]
  },
  {
   "cell_type": "code",
   "outputs": [],
   "source": [],
   "metadata": {
    "collapsed": false
   }
  },
  {
   "cell_type": "code",
   "execution_count": null,
   "metadata": {},
   "outputs": [],
   "source": [
    "data = pd.DataFrame(attrs, columns=['Trip distance','Trip time','Depature time','Sample points'])\n",
    "data['geometry'] = trajs\n",
    "datagdf = gpd.GeoDataFrame(data)\n",
    "datagdf['geometry'] = datagdf['geometry']\n",
    "# save to parquet\n",
    "datagdf.to_parquet('data.parquet')"
   ]
  },
  {
   "cell_type": "code",
   "execution_count": null,
   "metadata": {},
   "outputs": [],
   "source": []
  }
 ],
 "metadata": {
  "kernelspec": {
   "display_name": "base",
   "language": "python",
   "name": "python3"
  },
  "language_info": {
   "codemirror_mode": {
    "name": "ipython",
    "version": 3
   },
   "file_extension": ".py",
   "mimetype": "text/x-python",
   "name": "python",
   "nbconvert_exporter": "python",
   "pygments_lexer": "ipython3",
   "version": "3.8.3"
  },
  "orig_nbformat": 4
 },
 "nbformat": 4,
 "nbformat_minor": 2
}
